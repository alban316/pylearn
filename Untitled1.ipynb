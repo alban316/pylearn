{
 "cells": [
  {
   "cell_type": "code",
   "execution_count": 2,
   "metadata": {
    "collapsed": false
   },
   "outputs": [
    {
     "name": "stdout",
     "output_type": "stream",
     "text": [
      "{'': 2, '1': 20247, '0': 19882, '3': 20179, '2': 19941, '4': 19751}\n"
     ]
    }
   ],
   "source": [
    "# %load agg.py\n",
    "#!/usr/bin/env python\n",
    "\n",
    "file = open(\"parts.txt\", \"r\")\n",
    "\n",
    "t = file.read()\n",
    "\n",
    "file.close()\n",
    "\n",
    "tt = t.split(\"\\n\")\n",
    "#st = tt[:25]\n",
    "\n",
    "\n",
    "def ccount(ddict, i):\n",
    "    ddict.setdefault(i)\n",
    "    if ddict[i] is None:\n",
    "        ddict[i] = 0\n",
    "    ddict[i] += 1\n",
    "\n",
    "d = {}\n",
    "map(lambda i: ccount(d, i), tt)\n",
    "\n",
    "print d\n"
   ]
  },
  {
   "cell_type": "code",
   "execution_count": 10,
   "metadata": {
    "collapsed": false
   },
   "outputs": [
    {
     "name": "stdout",
     "output_type": "stream",
     "text": [
      ": 2\n",
      "0: 19882\n",
      "1: 20247\n",
      "2: 19941\n",
      "3: 20179\n",
      "4: 19751\n"
     ]
    }
   ],
   "source": [
    "for key in sorted(d):\n",
    "    print \"%s: %s\" % (key, d[key])"
   ]
  }
 ],
 "metadata": {
  "kernelspec": {
   "display_name": "Python 2",
   "language": "python",
   "name": "python2"
  },
  "language_info": {
   "codemirror_mode": {
    "name": "ipython",
    "version": 2
   },
   "file_extension": ".py",
   "mimetype": "text/x-python",
   "name": "python",
   "nbconvert_exporter": "python",
   "pygments_lexer": "ipython2",
   "version": "2.7.13"
  }
 },
 "nbformat": 4,
 "nbformat_minor": 2
}
